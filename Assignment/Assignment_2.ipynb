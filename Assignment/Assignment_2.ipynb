{
  "cells": [
    {
      "cell_type": "code",
      "execution_count": null,
      "metadata": {
        "id": "5TX-LHEfe5JA"
      },
      "outputs": [],
      "source": [
        "import nltk\n",
        "from nltk import pos_tag\n",
        "from nltk.tokenize import word_tokenize"
      ]
    },
    {
      "cell_type": "code",
      "execution_count": null,
      "metadata": {
        "colab": {
          "base_uri": "https://localhost:8080/"
        },
        "id": "cWmzKaMhe5HK",
        "outputId": "c836d328-e5c4-4122-99ad-5e9ad8b725da"
      },
      "outputs": [
        {
          "name": "stderr",
          "output_type": "stream",
          "text": [
            "[nltk_data] Downloading package punkt to /root/nltk_data...\n",
            "[nltk_data]   Unzipping tokenizers/punkt.zip.\n",
            "[nltk_data] Downloading package averaged_perceptron_tagger to\n",
            "[nltk_data]     /root/nltk_data...\n",
            "[nltk_data]   Unzipping taggers/averaged_perceptron_tagger.zip.\n"
          ]
        },
        {
          "data": {
            "text/plain": [
              "True"
            ]
          },
          "execution_count": 2,
          "metadata": {},
          "output_type": "execute_result"
        }
      ],
      "source": [
        "nltk.download('punkt')\n",
        "nltk.download('averaged_perceptron_tagger')"
      ]
    },
    {
      "cell_type": "code",
      "execution_count": null,
      "metadata": {
        "colab": {
          "base_uri": "https://localhost:8080/"
        },
        "id": "wBG1GaJyrVFF",
        "outputId": "e572c211-cd50-4324-e9f6-acbb96671c7c"
      },
      "outputs": [
        {
          "name": "stderr",
          "output_type": "stream",
          "text": [
            "[nltk_data] Downloading package stopwords to /root/nltk_data...\n",
            "[nltk_data]   Unzipping corpora/stopwords.zip.\n"
          ]
        },
        {
          "data": {
            "text/plain": [
              "True"
            ]
          },
          "execution_count": 3,
          "metadata": {},
          "output_type": "execute_result"
        }
      ],
      "source": [
        "from nltk.corpus import stopwords\n",
        "nltk.download('stopwords')"
      ]
    },
    {
      "cell_type": "code",
      "execution_count": null,
      "metadata": {
        "id": "71ozdtsOrjds"
      },
      "outputs": [],
      "source": [
        "swords = stopwords.words('english')"
      ]
    },
    {
      "cell_type": "code",
      "execution_count": null,
      "metadata": {
        "id": "qvkdsfXze5DW"
      },
      "outputs": [],
      "source": [
        "text=\"The National Aeronautics and Space Administration (NASA; /ˈnæsə/) is an independent agency of the U.S. federal government responsible for the civil space program, aeronautics research, and space research. Established in 1958, it succeeded the National Advisory Committee for Aeronautics (NACA) to give the U.S. space development effort a distinct civilian orientation, emphasizing peaceful applications in space science. It has since led most of America's space exploration programs, including Project Mercury, Project Gemini, the 1968–1972 Apollo Moon landing missions, the Skylab space station, and the Space Shuttle. Currently, NASA supports the International Space Station (ISS) along with the Commercial Crew Program, and oversees the development of the Orion spacecraft and the Space Launch System for the lunar Artemis program.\""
      ]
    },
    {
      "cell_type": "code",
      "execution_count": null,
      "metadata": {
        "colab": {
          "base_uri": "https://localhost:8080/"
        },
        "id": "O0LwIq6Fe5AW",
        "outputId": "d6fbe28a-b0a2-4be0-b002-06f0ed2b5823"
      },
      "outputs": [
        {
          "data": {
            "text/plain": [
              "[('The', 'DT'),\n",
              " ('National', 'NNP'),\n",
              " ('Aeronautics', 'NNP'),\n",
              " ('and', 'CC'),\n",
              " ('Space', 'NNP'),\n",
              " ('Administration', 'NNP'),\n",
              " ('(', '('),\n",
              " ('NASA', 'NNP'),\n",
              " (';', ':'),\n",
              " ('/ˈnæsə/', 'NNP'),\n",
              " (')', ')'),\n",
              " ('is', 'VBZ'),\n",
              " ('an', 'DT'),\n",
              " ('independent', 'JJ'),\n",
              " ('agency', 'NN'),\n",
              " ('of', 'IN'),\n",
              " ('the', 'DT'),\n",
              " ('U.S.', 'NNP'),\n",
              " ('federal', 'JJ'),\n",
              " ('government', 'NN'),\n",
              " ('responsible', 'JJ'),\n",
              " ('for', 'IN'),\n",
              " ('the', 'DT'),\n",
              " ('civil', 'JJ'),\n",
              " ('space', 'NN'),\n",
              " ('program', 'NN'),\n",
              " (',', ','),\n",
              " ('aeronautics', 'NNS'),\n",
              " ('research', 'NN'),\n",
              " (',', ','),\n",
              " ('and', 'CC'),\n",
              " ('space', 'NN'),\n",
              " ('research', 'NN'),\n",
              " ('.', '.'),\n",
              " ('Established', 'VBN'),\n",
              " ('in', 'IN'),\n",
              " ('1958', 'CD'),\n",
              " (',', ','),\n",
              " ('it', 'PRP'),\n",
              " ('succeeded', 'VBD'),\n",
              " ('the', 'DT'),\n",
              " ('National', 'NNP'),\n",
              " ('Advisory', 'NNP'),\n",
              " ('Committee', 'NNP'),\n",
              " ('for', 'IN'),\n",
              " ('Aeronautics', 'NNP'),\n",
              " ('(', '('),\n",
              " ('NACA', 'NNP'),\n",
              " (')', ')'),\n",
              " ('to', 'TO'),\n",
              " ('give', 'VB'),\n",
              " ('the', 'DT'),\n",
              " ('U.S.', 'NNP'),\n",
              " ('space', 'NN'),\n",
              " ('development', 'NN'),\n",
              " ('effort', 'NN'),\n",
              " ('a', 'DT'),\n",
              " ('distinct', 'JJ'),\n",
              " ('civilian', 'JJ'),\n",
              " ('orientation', 'NN'),\n",
              " (',', ','),\n",
              " ('emphasizing', 'VBG'),\n",
              " ('peaceful', 'JJ'),\n",
              " ('applications', 'NNS'),\n",
              " ('in', 'IN'),\n",
              " ('space', 'NN'),\n",
              " ('science', 'NN'),\n",
              " ('.', '.'),\n",
              " ('It', 'PRP'),\n",
              " ('has', 'VBZ'),\n",
              " ('since', 'IN'),\n",
              " ('led', 'VBN'),\n",
              " ('most', 'JJS'),\n",
              " ('of', 'IN'),\n",
              " ('America', 'NNP'),\n",
              " (\"'s\", 'POS'),\n",
              " ('space', 'NN'),\n",
              " ('exploration', 'NN'),\n",
              " ('programs', 'NNS'),\n",
              " (',', ','),\n",
              " ('including', 'VBG'),\n",
              " ('Project', 'NNP'),\n",
              " ('Mercury', 'NNP'),\n",
              " (',', ','),\n",
              " ('Project', 'NNP'),\n",
              " ('Gemini', 'NNP'),\n",
              " (',', ','),\n",
              " ('the', 'DT'),\n",
              " ('1968–1972', 'CD'),\n",
              " ('Apollo', 'NNP'),\n",
              " ('Moon', 'NNP'),\n",
              " ('landing', 'VBG'),\n",
              " ('missions', 'NNS'),\n",
              " (',', ','),\n",
              " ('the', 'DT'),\n",
              " ('Skylab', 'NNP'),\n",
              " ('space', 'NN'),\n",
              " ('station', 'NN'),\n",
              " (',', ','),\n",
              " ('and', 'CC'),\n",
              " ('the', 'DT'),\n",
              " ('Space', 'NNP'),\n",
              " ('Shuttle', 'NNP'),\n",
              " ('.', '.'),\n",
              " ('Currently', 'NNP'),\n",
              " (',', ','),\n",
              " ('NASA', 'NNP'),\n",
              " ('supports', 'VBZ'),\n",
              " ('the', 'DT'),\n",
              " ('International', 'NNP'),\n",
              " ('Space', 'NNP'),\n",
              " ('Station', 'NNP'),\n",
              " ('(', '('),\n",
              " ('ISS', 'NNP'),\n",
              " (')', ')'),\n",
              " ('along', 'IN'),\n",
              " ('with', 'IN'),\n",
              " ('the', 'DT'),\n",
              " ('Commercial', 'JJ'),\n",
              " ('Crew', 'NNP'),\n",
              " ('Program', 'NNP'),\n",
              " (',', ','),\n",
              " ('and', 'CC'),\n",
              " ('oversees', 'VBZ'),\n",
              " ('the', 'DT'),\n",
              " ('development', 'NN'),\n",
              " ('of', 'IN'),\n",
              " ('the', 'DT'),\n",
              " ('Orion', 'NNP'),\n",
              " ('spacecraft', 'NN'),\n",
              " ('and', 'CC'),\n",
              " ('the', 'DT'),\n",
              " ('Space', 'NNP'),\n",
              " ('Launch', 'NNP'),\n",
              " ('System', 'NNP'),\n",
              " ('for', 'IN'),\n",
              " ('the', 'DT'),\n",
              " ('lunar', 'JJ'),\n",
              " ('Artemis', 'NNP'),\n",
              " ('program', 'NN'),\n",
              " ('.', '.')]"
            ]
          },
          "execution_count": 6,
          "metadata": {},
          "output_type": "execute_result"
        }
      ],
      "source": [
        "pos_tags = pos_tag(word_tokenize(text))\n",
        "pos_tags"
      ]
    },
    {
      "cell_type": "code",
      "execution_count": null,
      "metadata": {
        "colab": {
          "base_uri": "https://localhost:8080/",
          "height": 90
        },
        "id": "zDc9Lfy4e44X",
        "outputId": "af5ba6fd-3cea-4bed-83bb-2f2a8158f733"
      },
      "outputs": [
        {
          "data": {
            "application/vnd.google.colaboratory.intrinsic+json": {
              "type": "string"
            },
            "text/plain": [
              "'The National Aeronautics and Space Administration NASA is an independent agency of the federal government responsible for the civil space program aeronautics research and space research Established in 1958 it succeeded the National Advisory Committee for Aeronautics NACA to give the space development effort a distinct civilian orientation emphasizing peaceful applications in space science It has since led most of America space exploration programs including Project Mercury Project Gemini the Apollo Moon landing missions the Skylab space station and the Space Shuttle Currently NASA supports the International Space Station ISS along with the Commercial Crew Program and oversees the development of the Orion spacecraft and the Space Launch System for the lunar Artemis program'"
            ]
          },
          "execution_count": 7,
          "metadata": {},
          "output_type": "execute_result"
        }
      ],
      "source": [
        "clean = [x for x in word_tokenize(text) if x.isalpha() or x.isdigit()]\n",
        "' '.join(clean)"
      ]
    },
    {
      "cell_type": "code",
      "execution_count": null,
      "metadata": {
        "colab": {
          "base_uri": "https://localhost:8080/",
          "height": 90
        },
        "id": "jqd7_x_JdGJu",
        "outputId": "e4198f9c-4664-4569-d640-80bbc49cd11d"
      },
      "outputs": [
        {
          "data": {
            "application/vnd.google.colaboratory.intrinsic+json": {
              "type": "string"
            },
            "text/plain": [
              "'National Aeronautics Space Administration NASA independent agency federal government responsible civil space program aeronautics research space research Established 1958 succeeded National Advisory Committee Aeronautics NACA give space development effort distinct civilian orientation emphasizing peaceful applications space science since led America space exploration programs including Project Mercury Project Gemini Apollo Moon landing missions Skylab space station Space Shuttle Currently NASA supports International Space Station ISS along Commercial Crew Program oversees development Orion spacecraft Space Launch System lunar Artemis program'"
            ]
          },
          "execution_count": 8,
          "metadata": {},
          "output_type": "execute_result"
        }
      ],
      "source": [
        "stopwords_removed = [x for x in clean if x.lower() not in swords]\n",
        "' '.join(stopwords_removed)"
      ]
    },
    {
      "cell_type": "code",
      "execution_count": null,
      "metadata": {
        "id": "OVH9jlhcsLFS"
      },
      "outputs": [],
      "source": [
        "nouns = [word[0] for word in pos_tags if word[1].startswith('N')]"
      ]
    },
    {
      "cell_type": "code",
      "execution_count": null,
      "metadata": {
        "colab": {
          "base_uri": "https://localhost:8080/"
        },
        "id": "mRGPHYkRs6HB",
        "outputId": "8319cd5a-6b62-4f54-ce3d-008d40465d97"
      },
      "outputs": [
        {
          "name": "stdout",
          "output_type": "stream",
          "text": [
            "['National', 'Aeronautics', 'Space', 'Administration', 'NASA', '/ˈnæsə/', 'agency', 'U.S.', 'government', 'space', 'program', 'aeronautics', 'research', 'space', 'research', 'National', 'Advisory', 'Committee', 'Aeronautics', 'NACA', 'U.S.', 'space', 'development', 'effort', 'orientation', 'applications', 'space', 'science', 'America', 'space', 'exploration', 'programs', 'Project', 'Mercury', 'Project', 'Gemini', 'Apollo', 'Moon', 'missions', 'Skylab', 'space', 'station', 'Space', 'Shuttle', 'Currently', 'NASA', 'International', 'Space', 'Station', 'ISS', 'Crew', 'Program', 'development', 'Orion', 'spacecraft', 'Space', 'Launch', 'System', 'Artemis', 'program']\n"
          ]
        }
      ],
      "source": [
        "print(nouns)"
      ]
    },
    {
      "cell_type": "code",
      "execution_count": null,
      "metadata": {
        "id": "pMDfLrHbtRan"
      },
      "outputs": [],
      "source": [
        "text1 =\"Pune at different points in time has been ruled by the Rashtrakuta dynasty, Ahmadnagar Sultanate, the Mughals, and the Adil Shahi dynasty. In the 18th century, the city was part of the Maratha Empire, and the seat of the Peshwas, the prime ministers of the Maratha Empire.[26] Many historical landmarks like Pataleshwar caves, Shaniwarwada, Shinde Chhatri, and Vishrambaug Wada date to this era. Historical sites from different eras dot the city.\""
      ]
    },
    {
      "cell_type": "code",
      "execution_count": null,
      "metadata": {
        "colab": {
          "base_uri": "https://localhost:8080/"
        },
        "id": "9ZOPfYXsuAhs",
        "outputId": "749b1f26-5f21-411b-c588-4dcec3f5332b"
      },
      "outputs": [
        {
          "data": {
            "text/plain": [
              "[('Pune', 'NNP'),\n",
              " ('at', 'IN'),\n",
              " ('different', 'JJ'),\n",
              " ('points', 'NNS'),\n",
              " ('in', 'IN'),\n",
              " ('time', 'NN'),\n",
              " ('has', 'VBZ'),\n",
              " ('been', 'VBN'),\n",
              " ('ruled', 'VBN'),\n",
              " ('by', 'IN'),\n",
              " ('the', 'DT'),\n",
              " ('Rashtrakuta', 'NNP'),\n",
              " ('dynasty', 'NN'),\n",
              " (',', ','),\n",
              " ('Ahmadnagar', 'NNP'),\n",
              " ('Sultanate', 'NNP'),\n",
              " (',', ','),\n",
              " ('the', 'DT'),\n",
              " ('Mughals', 'NNP'),\n",
              " (',', ','),\n",
              " ('and', 'CC'),\n",
              " ('the', 'DT'),\n",
              " ('Adil', 'NNP'),\n",
              " ('Shahi', 'NNP'),\n",
              " ('dynasty', 'NN'),\n",
              " ('.', '.'),\n",
              " ('In', 'IN'),\n",
              " ('the', 'DT'),\n",
              " ('18th', 'JJ'),\n",
              " ('century', 'NN'),\n",
              " (',', ','),\n",
              " ('the', 'DT'),\n",
              " ('city', 'NN'),\n",
              " ('was', 'VBD'),\n",
              " ('part', 'NN'),\n",
              " ('of', 'IN'),\n",
              " ('the', 'DT'),\n",
              " ('Maratha', 'NNP'),\n",
              " ('Empire', 'NNP'),\n",
              " (',', ','),\n",
              " ('and', 'CC'),\n",
              " ('the', 'DT'),\n",
              " ('seat', 'NN'),\n",
              " ('of', 'IN'),\n",
              " ('the', 'DT'),\n",
              " ('Peshwas', 'NNP'),\n",
              " (',', ','),\n",
              " ('the', 'DT'),\n",
              " ('prime', 'JJ'),\n",
              " ('ministers', 'NNS'),\n",
              " ('of', 'IN'),\n",
              " ('the', 'DT'),\n",
              " ('Maratha', 'NNP'),\n",
              " ('Empire', 'NNP'),\n",
              " ('.', '.'),\n",
              " ('[', 'CC'),\n",
              " ('26', 'CD'),\n",
              " (']', 'JJ'),\n",
              " ('Many', 'JJ'),\n",
              " ('historical', 'JJ'),\n",
              " ('landmarks', 'NNS'),\n",
              " ('like', 'IN'),\n",
              " ('Pataleshwar', 'NNP'),\n",
              " ('caves', 'NNS'),\n",
              " (',', ','),\n",
              " ('Shaniwarwada', 'NNP'),\n",
              " (',', ','),\n",
              " ('Shinde', 'NNP'),\n",
              " ('Chhatri', 'NNP'),\n",
              " (',', ','),\n",
              " ('and', 'CC'),\n",
              " ('Vishrambaug', 'NNP'),\n",
              " ('Wada', 'NNP'),\n",
              " ('date', 'NN'),\n",
              " ('to', 'TO'),\n",
              " ('this', 'DT'),\n",
              " ('era', 'NN'),\n",
              " ('.', '.'),\n",
              " ('Historical', 'JJ'),\n",
              " ('sites', 'NNS'),\n",
              " ('from', 'IN'),\n",
              " ('different', 'JJ'),\n",
              " ('eras', 'NNS'),\n",
              " ('dot', 'VBP'),\n",
              " ('the', 'DT'),\n",
              " ('city', 'NN'),\n",
              " ('.', '.')]"
            ]
          },
          "execution_count": 12,
          "metadata": {},
          "output_type": "execute_result"
        }
      ],
      "source": [
        "adj_text1 = pos_tag(word_tokenize(text1))\n",
        "adj_text1"
      ]
    },
    {
      "cell_type": "code",
      "execution_count": null,
      "metadata": {
        "colab": {
          "base_uri": "https://localhost:8080/"
        },
        "id": "kE4G25UhuLYk",
        "outputId": "11866481-5038-449a-c540-23ae253f5dc9"
      },
      "outputs": [
        {
          "data": {
            "text/plain": [
              "['different',\n",
              " '18th',\n",
              " 'prime',\n",
              " ']',\n",
              " 'Many',\n",
              " 'historical',\n",
              " 'Historical',\n",
              " 'different']"
            ]
          },
          "execution_count": 13,
          "metadata": {},
          "output_type": "execute_result"
        }
      ],
      "source": [
        "adj_words = [word[0] for word in adj_text1 if word[1].startswith('J')]\n",
        "adj_words"
      ]
    },
    {
      "cell_type": "code",
      "execution_count": null,
      "metadata": {
        "colab": {
          "background_save": true,
          "base_uri": "https://localhost:8080/"
        },
        "id": "MSBn9r4EurhR",
        "outputId": "386f1af7-a03a-4d24-95a5-b22831ae9174"
      },
      "outputs": [
        {
          "name": "stdout",
          "output_type": "stream",
          "text": [
            "\u001b[33mWARNING: Retrying (Retry(total=4, connect=None, read=None, redirect=None, status=None)) after connection broken by 'ProtocolError('Connection aborted.', ConnectionResetError(104, 'Connection reset by peer'))': /simple/morfessor/\u001b[0m\u001b[33m\n",
            "\u001b[0mCollecting morfessor\n",
            "  Downloading Morfessor-2.0.6-py3-none-any.whl (35 kB)\n",
            "Collecting polyglot\n",
            "  Downloading polyglot-16.7.4.tar.gz (126 kB)\n",
            "\u001b[2K     \u001b[90m━━━━━━━━━━━━━━━━━━━━━━━━━━━━━━━━━━━━━━━━\u001b[0m \u001b[32m126.3/126.3 kB\u001b[0m \u001b[31m879.7 kB/s\u001b[0m eta \u001b[36m0:00:00\u001b[0m\n",
            "\u001b[?25h  Preparing metadata (setup.py) ... \u001b[?25l\u001b[?25hdone\n",
            "Collecting pyICU\n",
            "  Downloading PyICU-2.13.1.tar.gz (262 kB)\n",
            "\u001b[2K     \u001b[90m━━━━━━━━━━━━━━━━━━━━━━━━━━━━━━━━━━━━━━━━\u001b[0m \u001b[32m262.4/262.4 kB\u001b[0m \u001b[31m1.2 MB/s\u001b[0m eta \u001b[36m0:00:00\u001b[0m\n",
            "\u001b[?25h  Installing build dependencies ... \u001b[?25l\u001b[?25hdone\n",
            "  Getting requirements to build wheel ... \u001b[?25l\u001b[?25hdone\n",
            "  Preparing metadata (pyproject.toml) ... \u001b[?25l\u001b[?25hdone\n",
            "Collecting pycld2\n",
            "  Downloading pycld2-0.41.tar.gz (41.4 MB)\n",
            "\u001b[2K     \u001b[90m━━━━━━━━━━━━━━━━━━━━━━━━━━━━━━━━━━━━━━━━\u001b[0m \u001b[32m41.4/41.4 MB\u001b[0m \u001b[31m3.8 MB/s\u001b[0m eta \u001b[36m0:00:00\u001b[0m\n",
            "\u001b[?25h  Preparing metadata (setup.py) ... \u001b[?25l\u001b[?25hdone\n",
            "Building wheels for collected packages: polyglot, pyICU, pycld2\n",
            "  Building wheel for polyglot (setup.py) ... \u001b[?25l\u001b[?25hdone\n",
            "  Created wheel for polyglot: filename=polyglot-16.7.4-py2.py3-none-any.whl size=52561 sha256=522f0828bf790eed476048e9f9e44deee46614e75b25d6fbf07f7a8100ab591e\n",
            "  Stored in directory: /root/.cache/pip/wheels/aa/92/4a/b172589446ba537db3bdb9a1f2204f27fe71217981c14ac368\n",
            "  Building wheel for pyICU (pyproject.toml) ... \u001b[?25l\u001b[?25hdone\n",
            "  Created wheel for pyICU: filename=PyICU-2.13.1-cp310-cp310-linux_x86_64.whl size=1801400 sha256=e7c2216abe758f38ab33f1b8083880d67ea461a2dace30318b32c303076f5fba\n",
            "  Stored in directory: /root/.cache/pip/wheels/8e/45/08/f4bc505e31eb7bb779d493226921abf18cf55ed30142e70eae\n",
            "  Building wheel for pycld2 (setup.py) ... \u001b[?25l\u001b[?25hdone\n",
            "  Created wheel for pycld2: filename=pycld2-0.41-cp310-cp310-linux_x86_64.whl size=9904037 sha256=43065bf50518a2689cd7510bfff06ad72c314ea3963f795ad2afd9fec5bd7e2d\n",
            "  Stored in directory: /root/.cache/pip/wheels/be/81/31/240c89c845e008a93d98542325270007de595bfd356eb0b06c\n",
            "Successfully built polyglot pyICU pycld2\n",
            "Installing collected packages: pyICU, pycld2, polyglot, morfessor\n",
            "Successfully installed morfessor-2.0.6 polyglot-16.7.4 pyICU-2.13.1 pycld2-0.41\n"
          ]
        }
      ],
      "source": [
        "pip install morfessor polyglot pyICU pycld2 -U"
      ]
    },
    {
      "cell_type": "code",
      "execution_count": null,
      "metadata": {
        "colab": {
          "background_save": true
        },
        "id": "BbhtGvv3bGR4",
        "outputId": "98eba4de-9762-47c2-a4f5-42cc0aa1e500"
      },
      "outputs": [
        {
          "name": "stdout",
          "output_type": "stream",
          "text": [
            "[polyglot_data] Downloading package morph2.en to\n",
            "[polyglot_data]     /root/polyglot_data...\n",
            "[polyglot_data] Downloading package morph2.mr to\n",
            "[polyglot_data]     /root/polyglot_data...\n"
          ]
        }
      ],
      "source": [
        "%%bash\n",
        "polyglot download morph2.en morph2.mr"
      ]
    },
    {
      "cell_type": "code",
      "execution_count": null,
      "metadata": {
        "colab": {
          "background_save": true
        },
        "id": "vf79c49gbG5j"
      },
      "outputs": [],
      "source": [
        "from polyglot.downloader import downloader"
      ]
    },
    {
      "cell_type": "code",
      "execution_count": null,
      "metadata": {
        "colab": {
          "background_save": true
        },
        "id": "IejD8nh-bHtP"
      },
      "outputs": [],
      "source": [
        "from polyglot.text import Text, Word"
      ]
    },
    {
      "cell_type": "code",
      "execution_count": null,
      "metadata": {
        "colab": {
          "background_save": true
        },
        "id": "9sFkmLuibOvw",
        "outputId": "b232ab39-3a2d-4eb6-8463-b98632b094df"
      },
      "outputs": [
        {
          "name": "stdout",
          "output_type": "stream",
          "text": [
            "National --> ['National']\n",
            "Aeronautics --> ['Aero', 'naut', 'ic', 's']\n",
            "Space --> ['Space']\n",
            "Administration --> ['Administ', 'ration']\n",
            "NASA --> ['NAS', 'A']\n",
            "/ˈnæsə/ --> ['/ˈnæsə/']\n",
            "agency --> ['age', 'ncy']\n",
            "U.S. --> ['U.S.']\n",
            "government --> ['government']\n",
            "space --> ['space']\n",
            "program --> ['program']\n",
            "aeronautics --> ['aero', 'naut', 'ic', 's']\n",
            "research --> ['research']\n",
            "space --> ['space']\n",
            "research --> ['research']\n",
            "National --> ['National']\n",
            "Advisory --> ['Advisor', 'y']\n",
            "Committee --> ['Committee']\n",
            "Aeronautics --> ['Aero', 'naut', 'ic', 's']\n",
            "NACA --> ['NA', 'C', 'A']\n",
            "U.S. --> ['U.S.']\n",
            "space --> ['space']\n",
            "development --> ['develop', 'ment']\n",
            "effort --> ['ef', 'fort']\n",
            "orientation --> ['orient', 'ation']\n",
            "applications --> ['appli', 'cation', 's']\n",
            "space --> ['space']\n",
            "science --> ['science']\n",
            "America --> ['America']\n",
            "space --> ['space']\n",
            "exploration --> ['explor', 'ation']\n",
            "programs --> ['program', 's']\n",
            "Project --> ['Project']\n",
            "Mercury --> ['Mer', 'cu', 'ry']\n",
            "Project --> ['Project']\n",
            "Gemini --> ['Ge', 'mini']\n",
            "Apollo --> ['Apollo']\n",
            "Moon --> ['Moon']\n",
            "missions --> ['mission', 's']\n",
            "Skylab --> ['Sky', 'lab']\n",
            "space --> ['space']\n",
            "station --> ['station']\n",
            "Space --> ['Space']\n",
            "Shuttle --> ['Shu', 'ttle']\n",
            "Currently --> ['Curr', 'ent', 'ly']\n",
            "NASA --> ['NAS', 'A']\n",
            "International --> ['Inter', 'national']\n",
            "Space --> ['Space']\n",
            "Station --> ['St', 'ation']\n",
            "ISS --> ['IS', 'S']\n",
            "Crew --> ['Crew']\n",
            "Program --> ['Program']\n",
            "development --> ['develop', 'ment']\n",
            "Orion --> ['Or', 'ion']\n",
            "spacecraft --> ['space', 'craft']\n",
            "Space --> ['Space']\n",
            "Launch --> ['Lau', 'nch']\n",
            "System --> ['System']\n",
            "Artemis --> ['Arte', 'mis']\n",
            "program --> ['program']\n"
          ]
        }
      ],
      "source": [
        "for w in nouns:\n",
        "  w = Word(w, language='en')\n",
        "  print(w, '-->', w.morphemes)"
      ]
    },
    {
      "cell_type": "code",
      "execution_count": null,
      "metadata": {
        "colab": {
          "background_save": true
        },
        "id": "kXza24vUbOsh"
      },
      "outputs": [],
      "source": []
    }
  ],
  "metadata": {
    "colab": {
      "provenance": []
    },
    "kernelspec": {
      "display_name": "Python 3",
      "name": "python3"
    },
    "language_info": {
      "name": "python"
    }
  },
  "nbformat": 4,
  "nbformat_minor": 0
}