{
  "cells": [
    {
      "cell_type": "markdown",
      "metadata": {
        "id": "3gzKM5GkctWz"
      },
      "source": [
        "* Open the Wikipedia page of Indian flag and perform following analysis\n",
        "* count total number of Words\n",
        "* Count percentage of punctuation marks\n",
        "* Print total number of lines\n",
        "* How many words are in title case?\n",
        "* Remove the numbers and print the text"
      ]
    },
    {
      "cell_type": "code",
      "execution_count": null,
      "metadata": {
        "id": "RoSAphM5UNkV"
      },
      "outputs": [],
      "source": [
        "import nltk\n",
        "\n",
        "\n",
        "# Import the functions\n",
        "from nltk.tokenize import sent_tokenize\n",
        "from nltk.tokenize import word_tokenize\n"
      ]
    },
    {
      "cell_type": "code",
      "execution_count": null,
      "metadata": {
        "colab": {
          "base_uri": "https://localhost:8080/"
        },
        "id": "0pHildUBV7qw",
        "outputId": "0fab0d8f-de41-4f07-f9b8-c00d82db685b"
      },
      "outputs": [
        {
          "name": "stderr",
          "output_type": "stream",
          "text": [
            "[nltk_data] Downloading package punkt to /root/nltk_data...\n",
            "[nltk_data]   Unzipping tokenizers/punkt.zip.\n"
          ]
        },
        {
          "data": {
            "text/plain": [
              "True"
            ]
          },
          "execution_count": 4,
          "metadata": {},
          "output_type": "execute_result"
        }
      ],
      "source": [
        "nltk.download('punkt')"
      ]
    },
    {
      "cell_type": "code",
      "execution_count": null,
      "metadata": {
        "id": "pN7mAKUKUpP3"
      },
      "outputs": [],
      "source": [
        "sent  = '''The national flag of India, colloquially called Tiraṅgā (the tricolour),\n",
        "        is a horizontal rectangular tricolour flag, the colours being of India saffron, white and India green;\n",
        "        with the Ashoka Chakra, a 24-spoke wheel, in navy blue at its centre.\n",
        "        [1][2] It was adopted in its present form during a meeting of the Constituent Assembly held on 22 July 1947,\n",
        "        and it became the official flag of the Union of India on 15 August 1947. The flag was subsequently retained as that of the Republic of India.\n",
        "        In India, the term \"tricolour\" almost always refers to the Indian national flag.'''"
      ]
    },
    {
      "cell_type": "code",
      "execution_count": null,
      "metadata": {
        "colab": {
          "base_uri": "https://localhost:8080/"
        },
        "id": "TU3aJcoCUpLW",
        "outputId": "28b8f06c-dcaa-485b-f41b-5d6da060a73e"
      },
      "outputs": [
        {
          "data": {
            "text/plain": [
              "['The national flag of India, colloquially called Tiraṅgā (the tricolour), is a horizontal rectangular tricolour flag, the colours being of India saffron, white and India green; with the Ashoka Chakra, a 24-spoke wheel, in navy blue at its centre.',\n",
              " '[1][2] It was adopted in its present form during a meeting of the Constituent Assembly held on 22 July 1947, and it became the official flag of the Union of India on 15 August 1947.',\n",
              " 'The flag was subsequently retained as that of the Republic of India.',\n",
              " 'In India, the term \"tricolour\" almost always refers to the Indian national flag.']"
            ]
          },
          "execution_count": 5,
          "metadata": {},
          "output_type": "execute_result"
        }
      ],
      "source": [
        "sent_tokenize(sent)"
      ]
    },
    {
      "cell_type": "code",
      "execution_count": null,
      "metadata": {
        "colab": {
          "base_uri": "https://localhost:8080/"
        },
        "id": "d_YvL3mKUpIP",
        "outputId": "b41b0d6e-c97c-4fb1-e774-608ef8b1cb32"
      },
      "outputs": [
        {
          "name": "stdout",
          "output_type": "stream",
          "text": [
            "102\n"
          ]
        }
      ],
      "source": [
        "import string\n",
        "word_count = [word for word in word_tokenize(sent) if word not in string.punctuation]\n",
        "print(len(word_count))"
      ]
    },
    {
      "cell_type": "code",
      "execution_count": null,
      "metadata": {
        "colab": {
          "base_uri": "https://localhost:8080/"
        },
        "id": "wUDf21OOWZ7k",
        "outputId": "bffe3d35-5ee9-43d5-8506-b3217c45e31b"
      },
      "outputs": [
        {
          "data": {
            "text/plain": [
              "18.181818181818183"
            ]
          },
          "execution_count": 8,
          "metadata": {},
          "output_type": "execute_result"
        }
      ],
      "source": [
        "perc_punct = len([word for word in word_tokenize(sent) if not word.isalnum()])\n",
        "perc_punct/len(word_tokenize(sent))*100"
      ]
    },
    {
      "cell_type": "code",
      "execution_count": null,
      "metadata": {
        "colab": {
          "base_uri": "https://localhost:8080/"
        },
        "id": "Rq7zEdaSXlra",
        "outputId": "5f8077d8-5820-48bd-b569-2edeb4dd3ebc"
      },
      "outputs": [
        {
          "data": {
            "text/plain": [
              "6"
            ]
          },
          "execution_count": 13,
          "metadata": {},
          "output_type": "execute_result"
        }
      ],
      "source": [
        "lst = sent.split('\\n')\n",
        "len(lst)"
      ]
    },
    {
      "cell_type": "code",
      "execution_count": null,
      "metadata": {
        "colab": {
          "base_uri": "https://localhost:8080/"
        },
        "id": "xcQcv42gaiTP",
        "outputId": "937e7718-ad32-432d-bfc8-3f6580b50217"
      },
      "outputs": [
        {
          "data": {
            "text/plain": [
              "['The',\n",
              " 'national',\n",
              " 'flag',\n",
              " 'of',\n",
              " 'India',\n",
              " ',',\n",
              " 'colloquially',\n",
              " 'called',\n",
              " 'Tiraṅgā',\n",
              " '(',\n",
              " 'the',\n",
              " 'tricolour',\n",
              " ')',\n",
              " ',']"
            ]
          },
          "execution_count": 16,
          "metadata": {},
          "output_type": "execute_result"
        }
      ],
      "source": [
        "word_tokenize(lst[0])"
      ]
    },
    {
      "cell_type": "code",
      "execution_count": null,
      "metadata": {
        "colab": {
          "base_uri": "https://localhost:8080/"
        },
        "id": "n60tlvbWY2ui",
        "outputId": "1760f021-f319-4848-df2f-6b135a286c9a"
      },
      "outputs": [
        {
          "name": "stdout",
          "output_type": "stream",
          "text": [
            "10\n"
          ]
        }
      ],
      "source": [
        "count_words = len([word for word in word_tokenize(lst[0]) if word not in string.punctuation])\n",
        "print(count_words)"
      ]
    },
    {
      "cell_type": "code",
      "execution_count": null,
      "metadata": {
        "colab": {
          "base_uri": "https://localhost:8080/",
          "height": 87
        },
        "id": "Wo99RbRDaN4B",
        "outputId": "cccbc93d-831e-42f7-e688-15c1929887db"
      },
      "outputs": [
        {
          "data": {
            "application/vnd.google.colaboratory.intrinsic+json": {
              "type": "string"
            },
            "text/plain": [
              "\"The national flag of India , colloquially called Tiraṅgā ( the tricolour ) , is a horizontal rectangular tricolour flag , the colours being of India saffron , white and India green ; with the Ashoka Chakra , a 24-spoke wheel , in navy blue at its centre . [ ] [ ] It was adopted in its present form during a meeting of the Constituent Assembly held on July , and it became the official flag of the Union of India on August . The flag was subsequently retained as that of the Republic of India . In India , the term `` tricolour '' almost always refers to the Indian national flag .\""
            ]
          },
          "execution_count": 22,
          "metadata": {},
          "output_type": "execute_result"
        }
      ],
      "source": [
        "words = [word for word in word_tokenize(sent) if not word.isdigit()]\n",
        "(' ').join(words)"
      ]
    },
    {
      "cell_type": "code",
      "execution_count": null,
      "metadata": {
        "id": "FANe2udRbxOx"
      },
      "outputs": [],
      "source": []
    }
  ],
  "metadata": {
    "colab": {
      "provenance": []
    },
    "kernelspec": {
      "display_name": "Python 3",
      "name": "python3"
    },
    "language_info": {
      "name": "python",
      "version": "3.11.7"
    }
  },
  "nbformat": 4,
  "nbformat_minor": 0
}
